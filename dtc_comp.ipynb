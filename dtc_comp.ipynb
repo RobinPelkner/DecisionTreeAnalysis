{
 "cells": [
  {
   "cell_type": "markdown",
   "id": "c3aacc14",
   "metadata": {},
   "source": [
    "# Comparison of various Decision Tree Classification Algorithm"
   ]
  },
  {
   "cell_type": "code",
   "execution_count": null,
   "id": "958c8210",
   "metadata": {},
   "outputs": [],
   "source": [
    "from IPython.display import display\n",
    "import xgboost as xgb\n",
    "import pandas as pd\n",
    "import numpy as np\n",
    "import matplotlib.pyplot as plt\n",
    "from sklearn.tree import DecisionTreeClassifier, plot_tree\n",
    "from sklearn.model_selection import train_test_split\n",
    "from sklearn.metrics import accuracy_score, roc_curve, roc_auc_score, precision_score, recall_score, f1_score\n",
    "from sklearn.ensemble import AdaBoostClassifier, GradientBoostingClassifier, HistGradientBoostingClassifier, BaggingClassifier, RandomForestClassifier\n",
    "from sklearn.model_selection import cross_validate\n",
    "from catboost import CatBoostClassifier\n",
    "from imblearn.over_sampling import ADASYN, RandomOverSampler, SMOTE\n",
    "from imblearn.pipeline import make_pipeline\n",
    "from imblearn.under_sampling import RandomUnderSampler, InstanceHardnessThreshold, CondensedNearestNeighbour"
   ]
  },
  {
   "cell_type": "markdown",
   "id": "cc9f3b00",
   "metadata": {},
   "source": [
    "The warning is thrown by xgboost. It has been fixed in the new stable version 1.6, which is not yet available for anaconda at this moment. The warning will come up several times, but does not interfere with the analysis."
   ]
  },
  {
   "cell_type": "markdown",
   "id": "d4ebbfbf",
   "metadata": {},
   "source": [
    "## Load the Data\n",
    "And Data inspection"
   ]
  },
  {
   "cell_type": "code",
   "execution_count": null,
   "id": "67668a48",
   "metadata": {},
   "outputs": [],
   "source": [
    "data = pd.read_csv(\"data/heart_prep.csv\", sep=\",\")\n",
    "print(\"Number of valid entries:\", len(data))\n",
    "data.describe()"
   ]
  },
  {
   "cell_type": "code",
   "execution_count": null,
   "id": "c130b53b",
   "metadata": {},
   "outputs": [],
   "source": [
    "#Plotting class distribution of HeartDisease to show off imbalance\n",
    "data['HeartDisease'].hist(bins = 2, edgecolor='white', color='orangered')\n",
    "plt.xticks(ticks=[0.25, 0.75], labels=['No', 'Yes'])\n",
    "plt.title('Distribution of classes')\n",
    "plt.xlabel('Heart Disease?')\n",
    "plt.ylabel('Number of Patients')\n",
    "plt.tight_layout()\n",
    "plt.savefig('figures/distributions/distribution.png')\n",
    "#plt.show()\n",
    "plt.clf()\n",
    "data[data.HeartDisease == 1].count() "
   ]
  },
  {
   "cell_type": "code",
   "execution_count": null,
   "id": "ee2b737d",
   "metadata": {},
   "outputs": [],
   "source": [
    "#Preparation of target data Y, rest data X\n",
    "data_target = data['HeartDisease']\n",
    "data = data.drop(['HeartDisease'], axis=1)\n",
    "#Generating Training and Test datasets in ratio 3:2\n",
    "train, test, target_train, target_test = train_test_split(data, data_target, test_size=0.4, random_state=0)\n",
    "print(\"Size Training dataset: \", len(train), \"\\nSize Test dataset: \", len(test)) #\"\\nSize Validation dataset\", len(val))\n"
   ]
  },
  {
   "cell_type": "code",
   "execution_count": null,
   "id": "77f69f36",
   "metadata": {},
   "outputs": [],
   "source": [
    "#Plot a Decision Tree for presentation purposes\n",
    "dtc = DecisionTreeClassifier(max_depth=3, criterion='entropy')\n",
    "dtc.fit(train, target_train)\n",
    "fig = plt.figure(figsize=(25,20))\n",
    "_ = plot_tree(dtc, feature_names=data.columns,class_names=['No HD', 'HD'], filled=True)\n",
    "plt.tight_layout()\n",
    "plt.savefig(\"figures/decistion_tree.png\")\n",
    "#plt.show()\n",
    "plt.clf()"
   ]
  },
  {
   "cell_type": "markdown",
   "id": "69a6fc7d",
   "metadata": {},
   "source": [
    "Various Functions for testing"
   ]
  },
  {
   "cell_type": "code",
   "execution_count": null,
   "id": "d7046e12",
   "metadata": {},
   "outputs": [],
   "source": [
    "# Function to automate training and prediction of a model; gets the model/algorithm and a bool which\n",
    "# decides if the training dataset is to be evaluated as well; \n",
    "# output are the prediction array and predict_proba as 'notion of confidence'\n",
    "def training(algorithm, pred_train=False):\n",
    "    algorithm.fit(train, target_train)\n",
    "    prediction = algorithm.predict(test)\n",
    "    prediction_proba = algorithm.predict_proba(test)\n",
    "    if pred_train == False:\n",
    "        return prediction, prediction_proba\n",
    "    else:   \n",
    "        prediction_train = algorithm.predict(train)\n",
    "        prediction_proba_train = algorithm.predict_proba(train)\n",
    "        return prediction, prediction_proba, prediction_train, prediction_proba_train\n"
   ]
  },
  {
   "cell_type": "code",
   "execution_count": null,
   "id": "e5b09bbb",
   "metadata": {},
   "outputs": [],
   "source": [
    "# Various scoring functions\n",
    "def comp_acc(prediction, truevalue):\n",
    "    acc = accuracy_score(truevalue, prediction)\n",
    "    return acc \n",
    "\n",
    "def comp_auc( prediction_proba, truevalue):\n",
    "    auc = roc_auc_score(truevalue, prediction_proba[:, 1])\n",
    "    return auc\n",
    "\n",
    "def comp_roc( prediction_proba, truevalue):    \n",
    "    fpr, tpr, thresholds = roc_curve(truevalue, prediction_proba[:, 1])\n",
    "    return fpr, tpr, thresholds"
   ]
  },
  {
   "cell_type": "code",
   "execution_count": null,
   "id": "fb2ebbd2",
   "metadata": {},
   "outputs": [],
   "source": [
    "# Cross Validation Function for accuracy, ROC AuC and recall\n",
    "# Input: Model, train and target data and the number of splits cv\n",
    "# Output: Mean of accuracy, ROC AuC and Recall after cross validation\n",
    "def cross_val(algorithm, train=data, target=data_target, cv=5):\n",
    "    scoring = {'acc': 'accuracy',\n",
    "               'auc': 'roc_auc',\n",
    "               'recall': 'recall'}\n",
    "\n",
    "    results = cross_validate(algorithm, train, target, cv=cv, scoring=scoring, return_train_score=True)\n",
    "\n",
    "    auc = results['test_auc']\n",
    "    recall = results['test_recall']\n",
    "    acc = results['test_acc']\n",
    "\n",
    "    print(f'Area under RoC curve: {auc.mean():0.04f} ± {auc.std():0.04f}')\n",
    "    print(f'Accuracy:             {acc.mean():0.04f} ± {acc.std():0.04f}')\n",
    "    print(f'Recall:               {recall.mean():0.04f} ± {recall.std():0.04f}')\n",
    "    return auc.mean(), acc.mean(), recall.mean()"
   ]
  },
  {
   "cell_type": "code",
   "execution_count": null,
   "id": "7fc88d1a",
   "metadata": {},
   "outputs": [],
   "source": [
    "# Function to evaluate the max_depth feature of the DTC\n",
    "# Input: DTC criterion, Final depth value\n",
    "# Output: Acc, Rec and ROC Plots\n",
    "def check_maxdepth(criterion='entropy', max_value=20, plot_figure=False):\n",
    "    training_acc =[]\n",
    "    test_acc =[]\n",
    "    roc=[]\n",
    "    test_rec=[]\n",
    "    training_rec=[]\n",
    "    for i in range(1, max_value):\n",
    "        algo = DecisionTreeClassifier(max_depth=i, criterion=criterion, random_state=137)\n",
    "        prediction, prediction_proba, prediction_train, prediction_proba_train = training(algo, True)\n",
    "        training_acc.append(accuracy_score(target_train, prediction_train))\n",
    "        test_acc.append(accuracy_score(target_test, prediction))\n",
    "        test_rec.append(recall_score(target_test, prediction))\n",
    "        training_rec.append(recall_score(target_train, prediction_train))\n",
    "        roc.append(roc_curve(target_test, prediction_proba[:,1]))\n",
    "\n",
    "    plt.figure()\n",
    "    plt.plot(range(1, max_value), training_acc, '--', label='Acc. Training Set')\n",
    "    plt.plot(range(1, max_value), test_acc, color='darkred', label='Acc. Test Set')\n",
    "    plt.xlabel('Maximum Depth')\n",
    "    plt.ylabel('Accuracy')\n",
    "    plt.title('Accuracy DTC with ' + criterion)\n",
    "    plt.legend()\n",
    "    plt.tight_layout()\n",
    "    plt.grid(alpha=0.4)\n",
    "    path = 'figures/max_depth/max_depth_' + str(max_value) + '_Criterion_' + criterion + str('_acc.png')\n",
    "    plt.savefig(path)\n",
    "    #plt.show()\n",
    "    plt.clf()\n",
    "    plt.figure()\n",
    "    plt.plot(range(1, max_value), training_rec,'--', color='cornflowerblue', label='Rec. Training Set')\n",
    "    plt.plot(range(1, max_value), test_rec, color='tomato', label='Rec. Test Set')\n",
    "    plt.xlabel('Maximum Depth')\n",
    "    plt.ylabel('Recall')\n",
    "    plt.title('Recall DTC with ' + criterion)\n",
    "    plt.legend()\n",
    "    plt.tight_layout()\n",
    "    plt.grid(alpha=0.4)\n",
    "    path = 'figures/max_depth/max_depth_' + str(max_value) + '_Criterion_' + criterion + str('_rec.png')\n",
    "    plt.savefig(path)\n",
    "    #plt.show()\n",
    "    plt.clf()\n",
    "    plt.figure()\n",
    "    plt.plot(roc[0][0], roc[0][1], '--', label='ROC with ' + str(1) + ' Maximum Depth')  \n",
    "    for i in range(1, int(max_value/4)):\n",
    "        name= 'ROC with ' + str(i*4) + ' Maximum Depth'\n",
    "        plt.plot(roc[(i-1)*4][0], roc[(i-1)*4][1], '--', label=name)  \n",
    "    plt.legend()\n",
    "    plt.xlabel('False Postive Rate')\n",
    "    plt.ylabel('False Negative Rate')\n",
    "    plt.title('ROC curves DTC with ' + criterion)\n",
    "    plt.grid(alpha=0.4)\n",
    "    plt.tight_layout()\n",
    "    path = 'figures/max_depth/ROCmax_depth' + str(max_value) + '_Criterion' + criterion + str('.png')\n",
    "    plt.savefig(path)  \n",
    "    #plt.show()"
   ]
  },
  {
   "cell_type": "code",
   "execution_count": null,
   "id": "185ea2c8",
   "metadata": {
    "scrolled": true
   },
   "outputs": [],
   "source": [
    "print('Checking max depth DTC with Entropy')\n",
    "check_maxdepth('entropy', 30)\n",
    "print('Checking max depth DTC with Gini')\n",
    "check_maxdepth('gini', 30)"
   ]
  },
  {
   "cell_type": "code",
   "execution_count": null,
   "id": "08c51de3",
   "metadata": {},
   "outputs": [],
   "source": [
    "dtc = DecisionTreeClassifier(max_depth=10, criterion='entropy', random_state=137)\n",
    "pred, pred_proba = training(dtc)\n",
    "plt.hist(pred, alpha=0.5, label='Predicted dist.', edgecolor='black')\n",
    "plt.hist(target_test, alpha=0.5, label='Actual dist.', edgecolor='black')\n",
    "plt.xticks(ticks=[0, 1], labels=['No', 'Yes'])\n",
    "plt.xlim(-0.1, 1)\n",
    "plt.title('Distribution of classes')\n",
    "plt.xlabel('Heart Disease?')\n",
    "plt.ylabel('Number of Patients')\n",
    "plt.legend()\n",
    "plt.tight_layout()\n",
    "plt.grid(alpha=0.4)\n",
    "plt.savefig('figures/distributions/distribution_dtc.png')\n",
    "#plt.show()\n",
    "plt.clf()"
   ]
  },
  {
   "cell_type": "code",
   "execution_count": null,
   "id": "548d5e45",
   "metadata": {},
   "outputs": [],
   "source": [
    "def plot_boosting_estimator(acc_test, acc_train, rec_test, rec_train, name):\n",
    "    plt.figure()\n",
    "    plt.plot(range(len(acc_test)), acc_test, color='red', linestyle='dotted', label='Acc. Test Set')\n",
    "    plt.plot(range(len(acc_train)), acc_train, color='blue', linestyle='dotted', label='Acc. Train Set')\n",
    "    plt.legend()\n",
    "    plt.grid(alpha=0.4)\n",
    "    plt.ylabel('Accuracy')\n",
    "    plt.xlabel('Iteration')\n",
    "    plt.title('Accuracy of ' + name)\n",
    "    plt.tight_layout()\n",
    "    PATH='figures/boosting_est/acc' + name + '.png'\n",
    "    plt.savefig(PATH)\n",
    "    #plt.show()\n",
    "    plt.clf()\n",
    "    \n",
    "    plt.figure()\n",
    "    plt.plot(range(len(rec_test)), rec_test, color='red', linestyle='dotted',label='Rec. Test Set')\n",
    "    plt.plot(range(len(rec_train)), rec_train, color='blue', linestyle= 'dotted', label='Rec. Train Set')\n",
    "    plt.legend()\n",
    "    plt.grid(alpha=0.4)\n",
    "    plt.ylabel('Recall')\n",
    "    plt.xlabel('Iteration')\n",
    "    plt.title('Recall of ' + name)\n",
    "    plt.tight_layout()\n",
    "    PATH='figures/boosting_est/rec' + name + '.png'\n",
    "    plt.savefig(PATH)\n",
    "    #plt.show()\n",
    "    plt.clf()"
   ]
  },
  {
   "cell_type": "code",
   "execution_count": null,
   "id": "90b4bcea",
   "metadata": {},
   "outputs": [],
   "source": [
    "def boosting_estimators(algo, name='ADA'):\n",
    "    algo.fit(train, target_train)\n",
    "    y_prediction = algo.predict(test)\n",
    "    y_prediction_train = algo.predict(train)\n",
    "    y_prediction_proba = algo.predict_proba(test)\n",
    "    acc_test = [accuracy_score(y_prediction, target_test) for y_prediction in algo.staged_predict(test)]\n",
    "    acc_train = [accuracy_score(y_prediction_train, target_train) for y_prediction_train in algo.staged_predict(train)]\n",
    "    rec_test = [recall_score(y_prediction, target_test, zero_division=1) for y_prediction in algo.staged_predict(test)]\n",
    "    rec_train = [recall_score(y_prediction_train, target_train, zero_division=1) for y_prediction_train in algo.staged_predict(train)]\n",
    "    plot_boosting_estimator(acc_test, acc_train, rec_test, rec_train, name)"
   ]
  },
  {
   "cell_type": "code",
   "execution_count": null,
   "id": "f8fa7e0a",
   "metadata": {},
   "outputs": [],
   "source": []
  },
  {
   "cell_type": "code",
   "execution_count": null,
   "id": "458a76b8",
   "metadata": {},
   "outputs": [],
   "source": [
    "classifier = [AdaBoostClassifier(base_estimator=DecisionTreeClassifier(max_depth=2), n_estimators=300), \n",
    "             GradientBoostingClassifier(n_estimators=300),\n",
    "             HistGradientBoostingClassifier(max_iter=300, early_stopping=False),\n",
    "             CatBoostClassifier(n_estimators=300, verbose=0)]\n",
    "names = ['AdaBoost', 'GradientBoost', 'HistGradientBoost', 'CatBoost']"
   ]
  },
  {
   "cell_type": "code",
   "execution_count": null,
   "id": "b071eb63",
   "metadata": {},
   "outputs": [],
   "source": [
    "print('check boosters')\n",
    "for booster, name in zip(classifier, names):\n",
    "    print(booster, name)\n",
    "    boosting_estimators(booster, name)"
   ]
  },
  {
   "cell_type": "code",
   "execution_count": null,
   "id": "3a62e064",
   "metadata": {},
   "outputs": [],
   "source": [
    "def xgb_test(max_est):\n",
    "    acc_test=[]\n",
    "    acc_train=[]\n",
    "    x=[]\n",
    "    rec_test=[]\n",
    "    rec_train=[]\n",
    "    for i in range(0, int(max_est/10)):\n",
    "        model = xgb.XGBClassifier(n_estimators=(i*10)+1, eval_metric='logloss', use_label_encoder=False)\n",
    "        model.fit(train, target_train)\n",
    "        y_prediction = model.predict(test)#\n",
    "        y_prediction_train = model.predict(train)\n",
    "        y_prediction_proba = model.predict_proba(test)\n",
    "        acc_test.append(accuracy_score( target_test, y_prediction))\n",
    "        acc_train.append(accuracy_score(target_train, y_prediction_train))\n",
    "        rec_test.append(recall_score(target_test, y_prediction))\n",
    "        rec_train.append(recall_score(target_train, y_prediction_train))\n",
    "        x.append(i*10 + 1)\n",
    "        \n",
    "    plot_boosting_estimator(acc_test, acc_train, rec_test, rec_train, 'eXtremeGradientBoost')"
   ]
  },
  {
   "cell_type": "code",
   "execution_count": null,
   "id": "0b1883f3",
   "metadata": {},
   "outputs": [],
   "source": [
    "xgb_test(300)"
   ]
  },
  {
   "cell_type": "code",
   "execution_count": null,
   "id": "5510aa6a",
   "metadata": {},
   "outputs": [],
   "source": [
    "print('cross_eval All')\n",
    "params=[]\n",
    "classifier = [DecisionTreeClassifier(max_depth=10, criterion='entropy', random_state=137),\n",
    "              DecisionTreeClassifier(max_depth=10, criterion='gini', random_state=137),\n",
    "              AdaBoostClassifier(base_estimator=DecisionTreeClassifier(max_depth=2), n_estimators=120, random_state=137), \n",
    "              GradientBoostingClassifier(n_estimators=150, random_state=137),\n",
    "              HistGradientBoostingClassifier(max_iter=150, early_stopping=True, random_state=137),\n",
    "              CatBoostClassifier(n_estimators=50, verbose=0, random_state=137),\n",
    "              xgb.XGBClassifier(n_estimators=100, eval_metric='logloss', use_label_encoder=False, random_state=137)]\n",
    "names = ['DTC_entropy', 'DTC_gini', 'AdaBoost', 'GradientBoost', 'HistGradientBoost', 'CatBoost', 'XGBoost']\n",
    "for algo, name in zip(classifier, names):\n",
    "    print(name)\n",
    "    params.append(cross_val(algo))\n",
    "    "
   ]
  },
  {
   "cell_type": "code",
   "execution_count": null,
   "id": "25eb7b20",
   "metadata": {},
   "outputs": [],
   "source": [
    "def plot_sampling(score_type='Accuracy', scores, name_of_sampler, names, sampling_type='Under'):\n",
    "    fig = plt.figure()\n",
    "    ax = fig.add_subplot(111)\n",
    "    plt.grid(alpha=0.5)\n",
    "    ax.scatter(np.linspace(0, 7, 7), scores[0], color='red', label=name_of_sampler[0])\n",
    "    ax.scatter(np.linspace(0, 7, 7), scores[1], color='green', label=name_of_sampler[1])\n",
    "    ax.scatter(np.linspace(0, 7, 7), scores[2], color='blue', label=name_of_sampler[2])\n",
    "    plt.xticks(ticks= np.linspace(0, 7, 7), labels=names, rotation = 45)\n",
    "    plt.legend()\n",
    "    plt.tight_layout()\n",
    "    plt.title(scoretype + ' ' + sampling_type + ' Sampler')\n",
    "    plt.ylabel(score_type)\n",
    "    plt.xlabel('Models')\n",
    "    plt.savefig(fig, 'figures/Sampling/' + score_type + sampling_type + '.png')\n",
    "    plt.show()\n",
    "    plt.clf()"
   ]
  },
  {
   "cell_type": "code",
   "execution_count": null,
   "id": "860b5e47",
   "metadata": {},
   "outputs": [],
   "source": [
    "def test_sampling(sampler, classifier, names):      \n",
    "    acc=[]\n",
    "    auc=[]\n",
    "    rec=[]\n",
    "    for algo, name in zip(classifier, names):\n",
    "        print(name)\n",
    "        model= make_pipeline(sampler, algo)\n",
    "        params = cross_val(model)\n",
    "        auc.append(params[0])\n",
    "        acc.append(params[1])\n",
    "        rec.append(params[2])\n",
    "        \n",
    "    return auc, acc, rec   "
   ]
  },
  {
   "cell_type": "code",
   "execution_count": null,
   "id": "0bfe953f",
   "metadata": {},
   "outputs": [],
   "source": [
    "print('ROS')\n",
    "auc_ROS, acc_ROS, rec_ROS = test_sampling(RandomOverSampler(random_state=137), classifier, names)"
   ]
  },
  {
   "cell_type": "code",
   "execution_count": null,
   "id": "6b89b666",
   "metadata": {},
   "outputs": [],
   "source": [
    "print('SMOTE')\n",
    "auc_SMOTE, acc_SMOTE, rec_SMOTE  = test_sampling(SMOTE(random_state=137), classifier, names)"
   ]
  },
  {
   "cell_type": "code",
   "execution_count": null,
   "id": "63fcbe9d",
   "metadata": {},
   "outputs": [],
   "source": [
    "print('ADASYN')\n",
    "auc_ADASYN, acc_ADASYN, rec_ADASYN = test_sampling(ADASYN(random_state=137), classifier, names)"
   ]
  },
  {
   "cell_type": "code",
   "execution_count": null,
   "id": "daa27fef",
   "metadata": {},
   "outputs": [],
   "source": [
    "print('RUS')\n",
    "auc_RUS, acc_RUS, rec_RUS = test_sampling(RandomUnderSampler(random_state=137), classifier, names)"
   ]
  },
  {
   "cell_type": "code",
   "execution_count": null,
   "id": "a2ee183a",
   "metadata": {},
   "outputs": [],
   "source": [
    "print('IHT')\n",
    "auc_IHT, acc_IHT, rec_IHT = test_sampling(InstanceHardnessThreshold(random_state=137), classifier, names)"
   ]
  },
  {
   "cell_type": "code",
   "execution_count": null,
   "id": "b2b8cd50",
   "metadata": {},
   "outputs": [],
   "source": [
    "print('CNN')\n",
    "auc_CNN, acc_CNN, rec_CNN = test_sampling(CondensedNearestNeighbour(random_state=137, n_neighbors=1), classifier, names)"
   ]
  },
  {
   "cell_type": "code",
   "execution_count": null,
   "id": "436b07c3",
   "metadata": {},
   "outputs": [],
   "source": [
    "plot_sampling('Accuracy', [acc_RUS, acc_IHT, acc_CNN], ['RandomUnderSampler', 'InstanceHardnessThreshold', 'CondensedNearestNeighbour'], names, 'Under')\n",
    "plot_sampling('Recall', [rec_RUS, rec_IHT, rec_CNN], ['RandomUnderSampler', 'InstanceHardnessThreshold', 'CondensedNearestNeighbour'], names, 'Under')\n",
    "plot_sampling('ROCAuC', [auc_RUS, auc_IHT, auc_CNN], ['RandomUnderSampler', 'InstanceHardnessThreshold', 'CondensedNearestNeighbour'], names, 'Under')\n",
    "\n",
    "plot_sampling('ROCAuC', [auc_ROS, auc_SMOTE, auc_ADASYN], ['RandomOverSampler', 'SMOTE', 'ADASYN'], names, 'Over')\n",
    "plot_sampling('Accuracy', [acc_ROS, acc_SMOTE, acc_ADASYN], ['RandomOverSampler', 'SMOTE', 'ADASYN'], names, 'Over')\n",
    "plot_sampling('Recall', [rec_ROS, rec_SMOTE, rec_ADASYN], ['RandomOverSampler', 'SMOTE', 'ADASYN'], names, 'Over')"
   ]
  },
  {
   "cell_type": "code",
   "execution_count": null,
   "id": "e7e524c3",
   "metadata": {},
   "outputs": [],
   "source": [
    "from imblearn.ensemble import RUSBoostClassifier"
   ]
  }
 ],
 "metadata": {
  "kernelspec": {
   "display_name": "Python 3 (ipykernel)",
   "language": "python",
   "name": "python3"
  },
  "language_info": {
   "codemirror_mode": {
    "name": "ipython",
    "version": 3
   },
   "file_extension": ".py",
   "mimetype": "text/x-python",
   "name": "python",
   "nbconvert_exporter": "python",
   "pygments_lexer": "ipython3",
   "version": "3.8.2"
  }
 },
 "nbformat": 4,
 "nbformat_minor": 5
}
